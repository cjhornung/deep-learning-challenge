{
 "cells": [
  {
   "cell_type": "markdown",
   "metadata": {},
   "source": [
    "## Preprocessing"
   ]
  },
  {
   "cell_type": "code",
   "execution_count": 2,
   "metadata": {
    "tags": []
   },
   "outputs": [
    {
     "data": {
      "text/html": [
       "<div>\n",
       "<style scoped>\n",
       "    .dataframe tbody tr th:only-of-type {\n",
       "        vertical-align: middle;\n",
       "    }\n",
       "\n",
       "    .dataframe tbody tr th {\n",
       "        vertical-align: top;\n",
       "    }\n",
       "\n",
       "    .dataframe thead th {\n",
       "        text-align: right;\n",
       "    }\n",
       "</style>\n",
       "<table border=\"1\" class=\"dataframe\">\n",
       "  <thead>\n",
       "    <tr style=\"text-align: right;\">\n",
       "      <th></th>\n",
       "      <th>EIN</th>\n",
       "      <th>NAME</th>\n",
       "      <th>APPLICATION_TYPE</th>\n",
       "      <th>AFFILIATION</th>\n",
       "      <th>CLASSIFICATION</th>\n",
       "      <th>USE_CASE</th>\n",
       "      <th>ORGANIZATION</th>\n",
       "      <th>STATUS</th>\n",
       "      <th>INCOME_AMT</th>\n",
       "      <th>SPECIAL_CONSIDERATIONS</th>\n",
       "      <th>ASK_AMT</th>\n",
       "      <th>IS_SUCCESSFUL</th>\n",
       "    </tr>\n",
       "  </thead>\n",
       "  <tbody>\n",
       "    <tr>\n",
       "      <th>0</th>\n",
       "      <td>10520599</td>\n",
       "      <td>BLUE KNIGHTS MOTORCYCLE CLUB</td>\n",
       "      <td>T10</td>\n",
       "      <td>Independent</td>\n",
       "      <td>C1000</td>\n",
       "      <td>ProductDev</td>\n",
       "      <td>Association</td>\n",
       "      <td>1</td>\n",
       "      <td>0</td>\n",
       "      <td>N</td>\n",
       "      <td>5000</td>\n",
       "      <td>1</td>\n",
       "    </tr>\n",
       "    <tr>\n",
       "      <th>1</th>\n",
       "      <td>10531628</td>\n",
       "      <td>AMERICAN CHESAPEAKE CLUB CHARITABLE TR</td>\n",
       "      <td>T3</td>\n",
       "      <td>Independent</td>\n",
       "      <td>C2000</td>\n",
       "      <td>Preservation</td>\n",
       "      <td>Co-operative</td>\n",
       "      <td>1</td>\n",
       "      <td>1-9999</td>\n",
       "      <td>N</td>\n",
       "      <td>108590</td>\n",
       "      <td>1</td>\n",
       "    </tr>\n",
       "    <tr>\n",
       "      <th>2</th>\n",
       "      <td>10547893</td>\n",
       "      <td>ST CLOUD PROFESSIONAL FIREFIGHTERS</td>\n",
       "      <td>T5</td>\n",
       "      <td>CompanySponsored</td>\n",
       "      <td>C3000</td>\n",
       "      <td>ProductDev</td>\n",
       "      <td>Association</td>\n",
       "      <td>1</td>\n",
       "      <td>0</td>\n",
       "      <td>N</td>\n",
       "      <td>5000</td>\n",
       "      <td>0</td>\n",
       "    </tr>\n",
       "    <tr>\n",
       "      <th>3</th>\n",
       "      <td>10553066</td>\n",
       "      <td>SOUTHSIDE ATHLETIC ASSOCIATION</td>\n",
       "      <td>T3</td>\n",
       "      <td>CompanySponsored</td>\n",
       "      <td>C2000</td>\n",
       "      <td>Preservation</td>\n",
       "      <td>Trust</td>\n",
       "      <td>1</td>\n",
       "      <td>10000-24999</td>\n",
       "      <td>N</td>\n",
       "      <td>6692</td>\n",
       "      <td>1</td>\n",
       "    </tr>\n",
       "    <tr>\n",
       "      <th>4</th>\n",
       "      <td>10556103</td>\n",
       "      <td>GENETIC RESEARCH INSTITUTE OF THE DESERT</td>\n",
       "      <td>T3</td>\n",
       "      <td>Independent</td>\n",
       "      <td>C1000</td>\n",
       "      <td>Heathcare</td>\n",
       "      <td>Trust</td>\n",
       "      <td>1</td>\n",
       "      <td>100000-499999</td>\n",
       "      <td>N</td>\n",
       "      <td>142590</td>\n",
       "      <td>1</td>\n",
       "    </tr>\n",
       "  </tbody>\n",
       "</table>\n",
       "</div>"
      ],
      "text/plain": [
       "        EIN                                      NAME APPLICATION_TYPE  \\\n",
       "0  10520599              BLUE KNIGHTS MOTORCYCLE CLUB              T10   \n",
       "1  10531628    AMERICAN CHESAPEAKE CLUB CHARITABLE TR               T3   \n",
       "2  10547893        ST CLOUD PROFESSIONAL FIREFIGHTERS               T5   \n",
       "3  10553066            SOUTHSIDE ATHLETIC ASSOCIATION               T3   \n",
       "4  10556103  GENETIC RESEARCH INSTITUTE OF THE DESERT               T3   \n",
       "\n",
       "        AFFILIATION CLASSIFICATION      USE_CASE  ORGANIZATION  STATUS  \\\n",
       "0       Independent          C1000    ProductDev   Association       1   \n",
       "1       Independent          C2000  Preservation  Co-operative       1   \n",
       "2  CompanySponsored          C3000    ProductDev   Association       1   \n",
       "3  CompanySponsored          C2000  Preservation         Trust       1   \n",
       "4       Independent          C1000     Heathcare         Trust       1   \n",
       "\n",
       "      INCOME_AMT SPECIAL_CONSIDERATIONS  ASK_AMT  IS_SUCCESSFUL  \n",
       "0              0                      N     5000              1  \n",
       "1         1-9999                      N   108590              1  \n",
       "2              0                      N     5000              0  \n",
       "3    10000-24999                      N     6692              1  \n",
       "4  100000-499999                      N   142590              1  "
      ]
     },
     "execution_count": 2,
     "metadata": {},
     "output_type": "execute_result"
    }
   ],
   "source": [
    "# Import our dependencies\n",
    "from sklearn.model_selection import train_test_split\n",
    "from sklearn.preprocessing import StandardScaler\n",
    "import pandas as pd\n",
    "import tensorflow as tf\n",
    "\n",
    "#  Import and read the charity_data.csv.\n",
    "import pandas as pd \n",
    "application_df = pd.read_csv(\"https://static.bc-edx.com/data/dl-1-2/m21/lms/starter/charity_data.csv\")\n",
    "application_df.head()"
   ]
  },
  {
   "cell_type": "code",
   "execution_count": 3,
   "metadata": {
    "tags": []
   },
   "outputs": [
    {
     "data": {
      "text/html": [
       "<div>\n",
       "<style scoped>\n",
       "    .dataframe tbody tr th:only-of-type {\n",
       "        vertical-align: middle;\n",
       "    }\n",
       "\n",
       "    .dataframe tbody tr th {\n",
       "        vertical-align: top;\n",
       "    }\n",
       "\n",
       "    .dataframe thead th {\n",
       "        text-align: right;\n",
       "    }\n",
       "</style>\n",
       "<table border=\"1\" class=\"dataframe\">\n",
       "  <thead>\n",
       "    <tr style=\"text-align: right;\">\n",
       "      <th></th>\n",
       "      <th>APPLICATION_TYPE</th>\n",
       "      <th>AFFILIATION</th>\n",
       "      <th>CLASSIFICATION</th>\n",
       "      <th>USE_CASE</th>\n",
       "      <th>ORGANIZATION</th>\n",
       "      <th>STATUS</th>\n",
       "      <th>INCOME_AMT</th>\n",
       "      <th>SPECIAL_CONSIDERATIONS</th>\n",
       "      <th>ASK_AMT</th>\n",
       "      <th>IS_SUCCESSFUL</th>\n",
       "    </tr>\n",
       "  </thead>\n",
       "  <tbody>\n",
       "    <tr>\n",
       "      <th>0</th>\n",
       "      <td>T10</td>\n",
       "      <td>Independent</td>\n",
       "      <td>C1000</td>\n",
       "      <td>ProductDev</td>\n",
       "      <td>Association</td>\n",
       "      <td>1</td>\n",
       "      <td>0</td>\n",
       "      <td>N</td>\n",
       "      <td>5000</td>\n",
       "      <td>1</td>\n",
       "    </tr>\n",
       "    <tr>\n",
       "      <th>1</th>\n",
       "      <td>T3</td>\n",
       "      <td>Independent</td>\n",
       "      <td>C2000</td>\n",
       "      <td>Preservation</td>\n",
       "      <td>Co-operative</td>\n",
       "      <td>1</td>\n",
       "      <td>1-9999</td>\n",
       "      <td>N</td>\n",
       "      <td>108590</td>\n",
       "      <td>1</td>\n",
       "    </tr>\n",
       "    <tr>\n",
       "      <th>2</th>\n",
       "      <td>T5</td>\n",
       "      <td>CompanySponsored</td>\n",
       "      <td>C3000</td>\n",
       "      <td>ProductDev</td>\n",
       "      <td>Association</td>\n",
       "      <td>1</td>\n",
       "      <td>0</td>\n",
       "      <td>N</td>\n",
       "      <td>5000</td>\n",
       "      <td>0</td>\n",
       "    </tr>\n",
       "    <tr>\n",
       "      <th>3</th>\n",
       "      <td>T3</td>\n",
       "      <td>CompanySponsored</td>\n",
       "      <td>C2000</td>\n",
       "      <td>Preservation</td>\n",
       "      <td>Trust</td>\n",
       "      <td>1</td>\n",
       "      <td>10000-24999</td>\n",
       "      <td>N</td>\n",
       "      <td>6692</td>\n",
       "      <td>1</td>\n",
       "    </tr>\n",
       "    <tr>\n",
       "      <th>4</th>\n",
       "      <td>T3</td>\n",
       "      <td>Independent</td>\n",
       "      <td>C1000</td>\n",
       "      <td>Heathcare</td>\n",
       "      <td>Trust</td>\n",
       "      <td>1</td>\n",
       "      <td>100000-499999</td>\n",
       "      <td>N</td>\n",
       "      <td>142590</td>\n",
       "      <td>1</td>\n",
       "    </tr>\n",
       "  </tbody>\n",
       "</table>\n",
       "</div>"
      ],
      "text/plain": [
       "  APPLICATION_TYPE       AFFILIATION CLASSIFICATION      USE_CASE  \\\n",
       "0              T10       Independent          C1000    ProductDev   \n",
       "1               T3       Independent          C2000  Preservation   \n",
       "2               T5  CompanySponsored          C3000    ProductDev   \n",
       "3               T3  CompanySponsored          C2000  Preservation   \n",
       "4               T3       Independent          C1000     Heathcare   \n",
       "\n",
       "   ORGANIZATION  STATUS     INCOME_AMT SPECIAL_CONSIDERATIONS  ASK_AMT  \\\n",
       "0   Association       1              0                      N     5000   \n",
       "1  Co-operative       1         1-9999                      N   108590   \n",
       "2   Association       1              0                      N     5000   \n",
       "3         Trust       1    10000-24999                      N     6692   \n",
       "4         Trust       1  100000-499999                      N   142590   \n",
       "\n",
       "   IS_SUCCESSFUL  \n",
       "0              1  \n",
       "1              1  \n",
       "2              0  \n",
       "3              1  \n",
       "4              1  "
      ]
     },
     "execution_count": 3,
     "metadata": {},
     "output_type": "execute_result"
    }
   ],
   "source": [
    "# Drop the non-beneficial ID columns, 'EIN' and 'NAME'.\n",
    "application_df = application_df.drop(['EIN', 'NAME'], axis=1)\n",
    "application_df.head()"
   ]
  },
  {
   "cell_type": "code",
   "execution_count": 4,
   "metadata": {
    "tags": []
   },
   "outputs": [
    {
     "name": "stdout",
     "output_type": "stream",
     "text": [
      "APPLICATION_TYPE            17\n",
      "AFFILIATION                  6\n",
      "CLASSIFICATION              71\n",
      "USE_CASE                     5\n",
      "ORGANIZATION                 4\n",
      "STATUS                       2\n",
      "INCOME_AMT                   9\n",
      "SPECIAL_CONSIDERATIONS       2\n",
      "ASK_AMT                   8747\n",
      "IS_SUCCESSFUL                2\n",
      "dtype: int64\n"
     ]
    }
   ],
   "source": [
    "# Determine the number of unique values in each column\n",
    "unique_value_counts = application_df.nunique()\n",
    "\n",
    "# Print the results\n",
    "print(unique_value_counts)"
   ]
  },
  {
   "cell_type": "code",
   "execution_count": 5,
   "metadata": {
    "tags": []
   },
   "outputs": [
    {
     "name": "stdout",
     "output_type": "stream",
     "text": [
      "T3     27037\n",
      "T4      1542\n",
      "T6      1216\n",
      "T5      1173\n",
      "T19     1065\n",
      "T8       737\n",
      "T7       725\n",
      "T10      528\n",
      "T9       156\n",
      "T13       66\n",
      "T12       27\n",
      "T2        16\n",
      "T25        3\n",
      "T14        3\n",
      "T29        2\n",
      "T15        2\n",
      "T17        1\n",
      "Name: APPLICATION_TYPE, dtype: int64\n"
     ]
    }
   ],
   "source": [
    "# Look at APPLICATION_TYPE value counts for binning\n",
    "application_type_counts = application_df['APPLICATION_TYPE'].value_counts()\n",
    "\n",
    "# Print the results\n",
    "print(application_type_counts)"
   ]
  },
  {
   "cell_type": "code",
   "execution_count": 6,
   "metadata": {
    "tags": []
   },
   "outputs": [
    {
     "data": {
      "text/plain": [
       "T3       27037\n",
       "T4        1542\n",
       "T6        1216\n",
       "T5        1173\n",
       "T19       1065\n",
       "T8         737\n",
       "T7         725\n",
       "T10        528\n",
       "Other      276\n",
       "Name: APPLICATION_TYPE, dtype: int64"
      ]
     },
     "execution_count": 6,
     "metadata": {},
     "output_type": "execute_result"
    }
   ],
   "source": [
    "# Choose a cutoff value and create a list of application types to be replaced\n",
    "# use the variable name `application_types_to_replace`\n",
    "cutoff_value = 250\n",
    "\n",
    "# This will include all application types with a count less than the cutoff value\n",
    "application_types_to_replace = application_type_counts[application_type_counts < cutoff_value].index.tolist()\n",
    "\n",
    "# Print the list of application types to be replaced\n",
    "# print(application_types_to_replace)\n",
    "\n",
    "# Replace in dataframe\n",
    "for app in application_types_to_replace:\n",
    "    application_df['APPLICATION_TYPE'] = application_df['APPLICATION_TYPE'].replace(app,\"Other\")\n",
    "\n",
    "# Check to make sure binning was successful\n",
    "application_df['APPLICATION_TYPE'].value_counts()"
   ]
  },
  {
   "cell_type": "code",
   "execution_count": 7,
   "metadata": {
    "tags": []
   },
   "outputs": [
    {
     "name": "stdout",
     "output_type": "stream",
     "text": [
      "C1000    17326\n",
      "C2000     6074\n",
      "C1200     4837\n",
      "C3000     1918\n",
      "C2100     1883\n",
      "         ...  \n",
      "C4120        1\n",
      "C8210        1\n",
      "C2561        1\n",
      "C4500        1\n",
      "C2150        1\n",
      "Name: CLASSIFICATION, Length: 71, dtype: int64\n"
     ]
    }
   ],
   "source": [
    "# Look at CLASSIFICATION value counts for binning\n",
    "\n",
    "# Get value counts for the 'CLASSIFICATION' column\n",
    "classification_counts = application_df['CLASSIFICATION'].value_counts()\n",
    "\n",
    "# Print the results\n",
    "print(classification_counts)"
   ]
  },
  {
   "cell_type": "code",
   "execution_count": 8,
   "metadata": {
    "tags": []
   },
   "outputs": [
    {
     "name": "stdout",
     "output_type": "stream",
     "text": [
      "C1000    17326\n",
      "C2000     6074\n",
      "C1200     4837\n",
      "C3000     1918\n",
      "C2100     1883\n",
      "C7000      777\n",
      "C1700      287\n",
      "C4000      194\n",
      "C5000      116\n",
      "C1270      114\n",
      "C2700      104\n",
      "C2800       95\n",
      "C7100       75\n",
      "C1300       58\n",
      "C1280       50\n",
      "C1230       36\n",
      "C1400       34\n",
      "C7200       32\n",
      "C2300       32\n",
      "C1240       30\n",
      "C8000       20\n",
      "C7120       18\n",
      "C1500       16\n",
      "C1800       15\n",
      "C6000       15\n",
      "C1250       14\n",
      "C8200       11\n",
      "C1238       10\n",
      "C1278       10\n",
      "C1235        9\n",
      "C1237        9\n",
      "C7210        7\n",
      "C2400        6\n",
      "C1720        6\n",
      "C4100        6\n",
      "C1257        5\n",
      "C1600        5\n",
      "C1260        3\n",
      "C2710        3\n",
      "C0           3\n",
      "C3200        2\n",
      "C1234        2\n",
      "C1246        2\n",
      "C1267        2\n",
      "C1256        2\n",
      "Name: CLASSIFICATION, dtype: int64\n"
     ]
    }
   ],
   "source": [
    "# You may find it helpful to look at CLASSIFICATION value counts >1\n",
    "\n",
    "# Get value counts for the 'CLASSIFICATION' column\n",
    "classification_counts = application_df['CLASSIFICATION'].value_counts()\n",
    "\n",
    "# Filter for value counts greater than 1\n",
    "classification_counts_greater_than_1 = classification_counts[classification_counts > 1]\n",
    "\n",
    "# Print the filtered results\n",
    "print(classification_counts_greater_than_1)"
   ]
  },
  {
   "cell_type": "code",
   "execution_count": 9,
   "metadata": {
    "tags": []
   },
   "outputs": [
    {
     "data": {
      "text/plain": [
       "C1000    17326\n",
       "C2000     6074\n",
       "C1200     4837\n",
       "Other     2261\n",
       "C3000     1918\n",
       "C2100     1883\n",
       "Name: CLASSIFICATION, dtype: int64"
      ]
     },
     "execution_count": 9,
     "metadata": {},
     "output_type": "execute_result"
    }
   ],
   "source": [
    "# Choose a cutoff value and create a list of classifications to be replaced\n",
    "# use the variable name `classifications_to_replace`\n",
    "\n",
    "cutoff_value = 1500  \n",
    "\n",
    "# This will include all classifications with a count less than the cutoff value\n",
    "classifications_to_replace = classification_counts[classification_counts < cutoff_value].index.tolist()\n",
    "\n",
    "# Print the list of classifications to be replaced\n",
    "# print(classifications_to_replace)\n",
    "\n",
    "# Replace in dataframe\n",
    "for cls in classifications_to_replace:\n",
    "    application_df['CLASSIFICATION'] = application_df['CLASSIFICATION'].replace(cls,\"Other\")\n",
    "    \n",
    "# Check to make sure binning was successful\n",
    "application_df['CLASSIFICATION'].value_counts()"
   ]
  },
  {
   "cell_type": "code",
   "execution_count": 10,
   "metadata": {
    "tags": []
   },
   "outputs": [
    {
     "name": "stdout",
     "output_type": "stream",
     "text": [
      "   STATUS  ASK_AMT  IS_SUCCESSFUL  APPLICATION_TYPE_Other  \\\n",
      "0       1     5000              1                       0   \n",
      "1       1   108590              1                       0   \n",
      "2       1     5000              0                       0   \n",
      "3       1     6692              1                       0   \n",
      "4       1   142590              1                       0   \n",
      "\n",
      "   APPLICATION_TYPE_T10  APPLICATION_TYPE_T19  APPLICATION_TYPE_T3  \\\n",
      "0                     1                     0                    0   \n",
      "1                     0                     0                    1   \n",
      "2                     0                     0                    0   \n",
      "3                     0                     0                    1   \n",
      "4                     0                     0                    1   \n",
      "\n",
      "   APPLICATION_TYPE_T4  APPLICATION_TYPE_T5  APPLICATION_TYPE_T6  ...  \\\n",
      "0                    0                    0                    0  ...   \n",
      "1                    0                    0                    0  ...   \n",
      "2                    0                    1                    0  ...   \n",
      "3                    0                    0                    0  ...   \n",
      "4                    0                    0                    0  ...   \n",
      "\n",
      "   INCOME_AMT_1-9999  INCOME_AMT_10000-24999  INCOME_AMT_100000-499999  \\\n",
      "0                  0                       0                         0   \n",
      "1                  1                       0                         0   \n",
      "2                  0                       0                         0   \n",
      "3                  0                       1                         0   \n",
      "4                  0                       0                         1   \n",
      "\n",
      "   INCOME_AMT_10M-50M  INCOME_AMT_1M-5M  INCOME_AMT_25000-99999  \\\n",
      "0                   0                 0                       0   \n",
      "1                   0                 0                       0   \n",
      "2                   0                 0                       0   \n",
      "3                   0                 0                       0   \n",
      "4                   0                 0                       0   \n",
      "\n",
      "   INCOME_AMT_50M+  INCOME_AMT_5M-10M  SPECIAL_CONSIDERATIONS_N  \\\n",
      "0                0                  0                         1   \n",
      "1                0                  0                         1   \n",
      "2                0                  0                         1   \n",
      "3                0                  0                         1   \n",
      "4                0                  0                         1   \n",
      "\n",
      "   SPECIAL_CONSIDERATIONS_Y  \n",
      "0                         0  \n",
      "1                         0  \n",
      "2                         0  \n",
      "3                         0  \n",
      "4                         0  \n",
      "\n",
      "[5 rows x 44 columns]\n"
     ]
    }
   ],
   "source": [
    "# Convert categorical data to numeric with `pd.get_dummies`\n",
    "application_df = pd.get_dummies(application_df)\n",
    "\n",
    "# Check the updated DataFrame\n",
    "print(application_df.head())"
   ]
  },
  {
   "cell_type": "code",
   "execution_count": 11,
   "metadata": {
    "tags": []
   },
   "outputs": [],
   "source": [
    "# Split our preprocessed data into our features and target arrays\n",
    "\n",
    "y = application_df['IS_SUCCESSFUL'].values\n",
    "X = application_df.drop(columns=['IS_SUCCESSFUL']).values\n",
    "\n",
    "# Split the preprocessed data into a training and testing dataset\n",
    "X_train, X_test, y_train, y_test = train_test_split(X, y,  random_state=42)"
   ]
  },
  {
   "cell_type": "code",
   "execution_count": 12,
   "metadata": {
    "tags": []
   },
   "outputs": [],
   "source": [
    "# Create a StandardScaler instances\n",
    "scaler = StandardScaler()\n",
    "\n",
    "# Fit the StandardScaler\n",
    "X_scaler = scaler.fit(X_train)\n",
    "\n",
    "# Scale the data\n",
    "X_train_scaled = X_scaler.transform(X_train)\n",
    "X_test_scaled = X_scaler.transform(X_test)"
   ]
  },
  {
   "cell_type": "markdown",
   "metadata": {},
   "source": [
    "## Compile, Train and Evaluate the Model"
   ]
  },
  {
   "cell_type": "code",
   "execution_count": 14,
   "metadata": {
    "tags": []
   },
   "outputs": [
    {
     "name": "stdout",
     "output_type": "stream",
     "text": [
      "Model: \"sequential_1\"\n",
      "_________________________________________________________________\n",
      " Layer (type)                Output Shape              Param #   \n",
      "=================================================================\n",
      " dense (Dense)               (None, 20)                880       \n",
      "                                                                 \n",
      " dense_1 (Dense)             (None, 1)                 21        \n",
      "                                                                 \n",
      "=================================================================\n",
      "Total params: 901 (3.52 KB)\n",
      "Trainable params: 901 (3.52 KB)\n",
      "Non-trainable params: 0 (0.00 Byte)\n",
      "_________________________________________________________________\n"
     ]
    }
   ],
   "source": [
    "# Define the model - deep neural net, i.e., the number of input features and hidden nodes for each layer.\n",
    "from tensorflow.keras.layers import Dense\n",
    "\n",
    "input_features = X_train.shape[1]\n",
    "\n",
    "# Create a Sequential model\n",
    "nn = tf.keras.models.Sequential()\n",
    "\n",
    "# First hidden layer\n",
    "nn.add(Dense(units=20, activation='relu', input_dim=input_features))\n",
    "\n",
    "# Output layer\n",
    "nn.add(Dense(units=1, activation='sigmoid'))\n",
    "\n",
    "# Check the structure of the model\n",
    "nn.summary()"
   ]
  },
  {
   "cell_type": "code",
   "execution_count": 15,
   "metadata": {
    "tags": []
   },
   "outputs": [],
   "source": [
    "# Compile the model\n",
    "nn.compile(loss='binary_crossentropy',  # Specify the appropriate loss function for your task\n",
    "           optimizer='adam',            # Choose an optimizer (e.g., 'adam', 'sgd', etc.)\n",
    "           metrics=['accuracy'])  "
   ]
  },
  {
   "cell_type": "code",
   "execution_count": 16,
   "metadata": {
    "tags": []
   },
   "outputs": [
    {
     "name": "stdout",
     "output_type": "stream",
     "text": [
      "Epoch 1/100\n",
      "515/515 [==============================] - 1s 2ms/step - loss: 69010.1797 - accuracy: 0.5046 - val_loss: 50769.3320 - val_accuracy: 0.4657\n",
      "Epoch 2/100\n",
      "515/515 [==============================] - 1s 1ms/step - loss: 18130.5430 - accuracy: 0.5024 - val_loss: 2728.0950 - val_accuracy: 0.4657\n",
      "Epoch 3/100\n",
      "515/515 [==============================] - 1s 1ms/step - loss: 17752.4629 - accuracy: 0.5070 - val_loss: 1015.1671 - val_accuracy: 0.5025\n",
      "Epoch 4/100\n",
      "515/515 [==============================] - 1s 1ms/step - loss: 25475.1367 - accuracy: 0.5147 - val_loss: 21702.8398 - val_accuracy: 0.4657\n",
      "Epoch 5/100\n",
      "515/515 [==============================] - 1s 1ms/step - loss: 9835.9053 - accuracy: 0.5381 - val_loss: 2173.9944 - val_accuracy: 0.4657\n",
      "Epoch 6/100\n",
      "515/515 [==============================] - 1s 1ms/step - loss: 19888.9844 - accuracy: 0.5047 - val_loss: 3108.0996 - val_accuracy: 0.4657\n",
      "Epoch 7/100\n",
      "515/515 [==============================] - 1s 1ms/step - loss: 17286.8535 - accuracy: 0.5135 - val_loss: 6033.5942 - val_accuracy: 0.4657\n",
      "Epoch 8/100\n",
      "515/515 [==============================] - 1s 1ms/step - loss: 1438.4331 - accuracy: 0.5329 - val_loss: 660.4211 - val_accuracy: 0.5991\n",
      "Epoch 9/100\n",
      "515/515 [==============================] - 1s 1ms/step - loss: 26783.3203 - accuracy: 0.5059 - val_loss: 9411.1533 - val_accuracy: 0.4657\n",
      "Epoch 10/100\n",
      "515/515 [==============================] - 1s 1ms/step - loss: 13393.1572 - accuracy: 0.5311 - val_loss: 21357.5625 - val_accuracy: 0.5343\n",
      "Epoch 11/100\n",
      "515/515 [==============================] - 1s 1ms/step - loss: 8069.4326 - accuracy: 0.5350 - val_loss: 1864.0869 - val_accuracy: 0.6585\n",
      "Epoch 12/100\n",
      "515/515 [==============================] - 1s 1ms/step - loss: 13278.1592 - accuracy: 0.5456 - val_loss: 1302.0386 - val_accuracy: 0.6602\n",
      "Epoch 13/100\n",
      "515/515 [==============================] - 1s 1ms/step - loss: 23542.6680 - accuracy: 0.5135 - val_loss: 1415.6462 - val_accuracy: 0.6128\n",
      "Epoch 14/100\n",
      "515/515 [==============================] - 1s 1ms/step - loss: 18799.7734 - accuracy: 0.5273 - val_loss: 10.2977 - val_accuracy: 0.5353\n",
      "Epoch 15/100\n",
      "515/515 [==============================] - 1s 1ms/step - loss: 19438.5918 - accuracy: 0.5161 - val_loss: 14071.7754 - val_accuracy: 0.4657\n",
      "Epoch 16/100\n",
      "515/515 [==============================] - 1s 1ms/step - loss: 18627.1562 - accuracy: 0.5207 - val_loss: 1396.7917 - val_accuracy: 0.5550\n",
      "Epoch 17/100\n",
      "515/515 [==============================] - 1s 1ms/step - loss: 12670.4902 - accuracy: 0.5201 - val_loss: 1250.7555 - val_accuracy: 0.5543\n",
      "Epoch 18/100\n",
      "515/515 [==============================] - 1s 1ms/step - loss: 2199.8745 - accuracy: 0.5426 - val_loss: 145.8826 - val_accuracy: 0.5377\n",
      "Epoch 19/100\n",
      "515/515 [==============================] - 1s 1ms/step - loss: 20171.1719 - accuracy: 0.5231 - val_loss: 2646.8030 - val_accuracy: 0.6490\n",
      "Epoch 20/100\n",
      "515/515 [==============================] - 1s 1ms/step - loss: 18712.8242 - accuracy: 0.5302 - val_loss: 1800.8434 - val_accuracy: 0.6303\n",
      "Epoch 21/100\n",
      "515/515 [==============================] - 1s 1ms/step - loss: 3320.9775 - accuracy: 0.5772 - val_loss: 36010.0117 - val_accuracy: 0.5343\n",
      "Epoch 22/100\n",
      "515/515 [==============================] - 1s 1ms/step - loss: 13549.3545 - accuracy: 0.5335 - val_loss: 4429.3481 - val_accuracy: 0.5343\n",
      "Epoch 23/100\n",
      "515/515 [==============================] - 1s 1ms/step - loss: 10488.9688 - accuracy: 0.5231 - val_loss: 2056.1599 - val_accuracy: 0.5343\n",
      "Epoch 24/100\n",
      "515/515 [==============================] - 1s 1ms/step - loss: 1298.9125 - accuracy: 0.6028 - val_loss: 8611.5713 - val_accuracy: 0.5343\n",
      "Epoch 25/100\n",
      "515/515 [==============================] - 1s 1ms/step - loss: 21022.5430 - accuracy: 0.5292 - val_loss: 8513.4307 - val_accuracy: 0.4657\n",
      "Epoch 26/100\n",
      "515/515 [==============================] - 1s 1ms/step - loss: 12108.4619 - accuracy: 0.5450 - val_loss: 585.1376 - val_accuracy: 0.5416\n",
      "Epoch 27/100\n",
      "515/515 [==============================] - 1s 1ms/step - loss: 12282.7607 - accuracy: 0.5431 - val_loss: 9016.7432 - val_accuracy: 0.4657\n",
      "Epoch 28/100\n",
      "515/515 [==============================] - 1s 1ms/step - loss: 14700.8896 - accuracy: 0.5273 - val_loss: 3875.9421 - val_accuracy: 0.5343\n",
      "Epoch 29/100\n",
      "515/515 [==============================] - 1s 1ms/step - loss: 13280.8984 - accuracy: 0.5405 - val_loss: 642.8588 - val_accuracy: 0.5416\n",
      "Epoch 30/100\n",
      "515/515 [==============================] - 1s 1ms/step - loss: 1676.4569 - accuracy: 0.5957 - val_loss: 245.6025 - val_accuracy: 0.6205\n",
      "Epoch 31/100\n",
      "515/515 [==============================] - 1s 1ms/step - loss: 11733.2910 - accuracy: 0.5726 - val_loss: 12578.4414 - val_accuracy: 0.5343\n",
      "Epoch 32/100\n",
      "515/515 [==============================] - 1s 1ms/step - loss: 13106.9814 - accuracy: 0.4866 - val_loss: 12305.6855 - val_accuracy: 0.4657\n",
      "Epoch 33/100\n",
      "515/515 [==============================] - 1s 1ms/step - loss: 11414.2266 - accuracy: 0.5665 - val_loss: 1909.4948 - val_accuracy: 0.6492\n",
      "Epoch 34/100\n",
      "515/515 [==============================] - 1s 1ms/step - loss: 1995.7150 - accuracy: 0.5957 - val_loss: 735.9264 - val_accuracy: 0.6239\n",
      "Epoch 35/100\n",
      "515/515 [==============================] - 1s 1ms/step - loss: 13726.9277 - accuracy: 0.5463 - val_loss: 1989.3607 - val_accuracy: 0.5343\n",
      "Epoch 36/100\n",
      "515/515 [==============================] - 1s 1ms/step - loss: 7971.4155 - accuracy: 0.5905 - val_loss: 18747.5918 - val_accuracy: 0.4657\n",
      "Epoch 37/100\n",
      "515/515 [==============================] - 1s 1ms/step - loss: 10141.0312 - accuracy: 0.5864 - val_loss: 925.0070 - val_accuracy: 0.6539\n",
      "Epoch 38/100\n",
      "515/515 [==============================] - 1s 1ms/step - loss: 12744.1758 - accuracy: 0.5576 - val_loss: 2196.3418 - val_accuracy: 0.6494\n",
      "Epoch 39/100\n",
      "515/515 [==============================] - 1s 1ms/step - loss: 12490.4092 - accuracy: 0.5957 - val_loss: 150.1926 - val_accuracy: 0.6217\n",
      "Epoch 40/100\n",
      "515/515 [==============================] - 1s 1ms/step - loss: 7501.3193 - accuracy: 0.5966 - val_loss: 5848.5254 - val_accuracy: 0.5343\n",
      "Epoch 41/100\n",
      "515/515 [==============================] - 1s 1ms/step - loss: 8074.2095 - accuracy: 0.5614 - val_loss: 4847.6040 - val_accuracy: 0.5068\n",
      "Epoch 42/100\n",
      "515/515 [==============================] - 1s 1ms/step - loss: 9999.0117 - accuracy: 0.6054 - val_loss: 8336.5820 - val_accuracy: 0.4657\n",
      "Epoch 43/100\n",
      "515/515 [==============================] - 1s 1ms/step - loss: 7819.0762 - accuracy: 0.5915 - val_loss: 266.9742 - val_accuracy: 0.6465\n",
      "Epoch 44/100\n",
      "515/515 [==============================] - 1s 1ms/step - loss: 8798.5264 - accuracy: 0.5734 - val_loss: 557.8826 - val_accuracy: 0.6567\n",
      "Epoch 45/100\n",
      "515/515 [==============================] - 1s 1ms/step - loss: 1060.0946 - accuracy: 0.6345 - val_loss: 2230.2825 - val_accuracy: 0.6314\n",
      "Epoch 46/100\n",
      "515/515 [==============================] - 1s 1ms/step - loss: 10531.4492 - accuracy: 0.5616 - val_loss: 2438.7708 - val_accuracy: 0.6301\n",
      "Epoch 47/100\n",
      "515/515 [==============================] - 1s 1ms/step - loss: 6794.1465 - accuracy: 0.5466 - val_loss: 205.1980 - val_accuracy: 0.6294\n",
      "Epoch 48/100\n",
      "515/515 [==============================] - 1s 1ms/step - loss: 1672.9252 - accuracy: 0.5995 - val_loss: 1951.0399 - val_accuracy: 0.5353\n",
      "Epoch 49/100\n",
      "515/515 [==============================] - 1s 1ms/step - loss: 8865.0205 - accuracy: 0.5763 - val_loss: 1859.6077 - val_accuracy: 0.6511\n",
      "Epoch 50/100\n",
      "515/515 [==============================] - 1s 1ms/step - loss: 11502.7910 - accuracy: 0.5179 - val_loss: 12581.4004 - val_accuracy: 0.4657\n",
      "Epoch 51/100\n",
      "515/515 [==============================] - 1s 1ms/step - loss: 8364.5840 - accuracy: 0.5587 - val_loss: 3104.3076 - val_accuracy: 0.6376\n",
      "Epoch 52/100\n",
      "515/515 [==============================] - 1s 1ms/step - loss: 6648.5264 - accuracy: 0.5977 - val_loss: 201.3710 - val_accuracy: 0.6332\n",
      "Epoch 53/100\n",
      "515/515 [==============================] - 1s 1ms/step - loss: 2717.7092 - accuracy: 0.6020 - val_loss: 27428.1973 - val_accuracy: 0.4657\n",
      "Epoch 54/100\n",
      "515/515 [==============================] - 1s 1ms/step - loss: 13195.7598 - accuracy: 0.5288 - val_loss: 6299.5557 - val_accuracy: 0.4709\n",
      "Epoch 55/100\n",
      "515/515 [==============================] - 1s 1ms/step - loss: 4309.0640 - accuracy: 0.6003 - val_loss: 18527.4180 - val_accuracy: 0.5343\n",
      "Epoch 56/100\n",
      "515/515 [==============================] - 1s 1ms/step - loss: 7607.7861 - accuracy: 0.6096 - val_loss: 240.0424 - val_accuracy: 0.6296\n",
      "Epoch 57/100\n",
      "515/515 [==============================] - 1s 1ms/step - loss: 5425.4556 - accuracy: 0.5910 - val_loss: 3258.3804 - val_accuracy: 0.6064\n",
      "Epoch 58/100\n",
      "515/515 [==============================] - 1s 1ms/step - loss: 6772.0049 - accuracy: 0.5370 - val_loss: 21122.5723 - val_accuracy: 0.4657\n",
      "Epoch 59/100\n",
      "515/515 [==============================] - 1s 1ms/step - loss: 9401.0010 - accuracy: 0.5204 - val_loss: 18167.5371 - val_accuracy: 0.5343\n",
      "Epoch 60/100\n",
      "515/515 [==============================] - 1s 1ms/step - loss: 8449.6523 - accuracy: 0.5798 - val_loss: 230.2625 - val_accuracy: 0.6195\n",
      "Epoch 61/100\n",
      "515/515 [==============================] - 1s 1ms/step - loss: 2158.7310 - accuracy: 0.5742 - val_loss: 254.8976 - val_accuracy: 0.6180\n",
      "Epoch 62/100\n",
      "515/515 [==============================] - 1s 1ms/step - loss: 6930.2231 - accuracy: 0.5514 - val_loss: 23236.2500 - val_accuracy: 0.5343\n",
      "Epoch 63/100\n",
      "515/515 [==============================] - 1s 1ms/step - loss: 7619.2690 - accuracy: 0.5900 - val_loss: 12457.0068 - val_accuracy: 0.4657\n",
      "Epoch 64/100\n",
      "515/515 [==============================] - 1s 1ms/step - loss: 10093.9277 - accuracy: 0.6034 - val_loss: 1375.8816 - val_accuracy: 0.6723\n",
      "Epoch 65/100\n",
      "515/515 [==============================] - 1s 1ms/step - loss: 10585.6826 - accuracy: 0.5594 - val_loss: 3802.4644 - val_accuracy: 0.6058\n",
      "Epoch 66/100\n",
      "515/515 [==============================] - 1s 1ms/step - loss: 5163.6719 - accuracy: 0.5874 - val_loss: 944.5806 - val_accuracy: 0.6399\n",
      "Epoch 67/100\n",
      "515/515 [==============================] - 1s 1ms/step - loss: 3359.7407 - accuracy: 0.6108 - val_loss: 17108.5020 - val_accuracy: 0.5343\n",
      "Epoch 68/100\n",
      "515/515 [==============================] - 1s 1ms/step - loss: 5853.8828 - accuracy: 0.5724 - val_loss: 7296.2036 - val_accuracy: 0.4669\n",
      "Epoch 69/100\n",
      "515/515 [==============================] - 1s 1ms/step - loss: 9777.8223 - accuracy: 0.5907 - val_loss: 8.6436 - val_accuracy: 0.6227\n",
      "Epoch 70/100\n",
      "515/515 [==============================] - 1s 1ms/step - loss: 8142.4312 - accuracy: 0.5698 - val_loss: 5927.4854 - val_accuracy: 0.4728\n",
      "Epoch 71/100\n",
      "515/515 [==============================] - 1s 1ms/step - loss: 7524.9409 - accuracy: 0.5752 - val_loss: 322.0630 - val_accuracy: 0.6283\n",
      "Epoch 72/100\n",
      "515/515 [==============================] - 1s 1ms/step - loss: 5252.5225 - accuracy: 0.5926 - val_loss: 252.8426 - val_accuracy: 0.6463\n",
      "Epoch 73/100\n",
      "515/515 [==============================] - 1s 1ms/step - loss: 2751.7158 - accuracy: 0.6193 - val_loss: 7224.8081 - val_accuracy: 0.5343\n",
      "Epoch 74/100\n",
      "515/515 [==============================] - 1s 1ms/step - loss: 8294.0840 - accuracy: 0.5834 - val_loss: 3732.2966 - val_accuracy: 0.5136\n",
      "Epoch 75/100\n",
      "515/515 [==============================] - 1s 1ms/step - loss: 6188.7432 - accuracy: 0.5641 - val_loss: 3331.0156 - val_accuracy: 0.5153\n",
      "Epoch 76/100\n",
      "515/515 [==============================] - 1s 1ms/step - loss: 6122.1582 - accuracy: 0.5443 - val_loss: 6555.1045 - val_accuracy: 0.4664\n",
      "Epoch 77/100\n",
      "515/515 [==============================] - 1s 1ms/step - loss: 6995.7207 - accuracy: 0.5758 - val_loss: 1545.8425 - val_accuracy: 0.6681\n",
      "Epoch 78/100\n",
      "515/515 [==============================] - 1s 1ms/step - loss: 8895.8340 - accuracy: 0.5524 - val_loss: 5408.7085 - val_accuracy: 0.4729\n",
      "Epoch 79/100\n",
      "515/515 [==============================] - 1s 1ms/step - loss: 4216.3169 - accuracy: 0.5768 - val_loss: 2496.6411 - val_accuracy: 0.5343\n",
      "Epoch 80/100\n",
      "515/515 [==============================] - 1s 1ms/step - loss: 1584.0731 - accuracy: 0.6038 - val_loss: 3557.8440 - val_accuracy: 0.5343\n",
      "Epoch 81/100\n",
      "515/515 [==============================] - 1s 1ms/step - loss: 6445.6289 - accuracy: 0.5779 - val_loss: 10342.2988 - val_accuracy: 0.4657\n",
      "Epoch 82/100\n",
      "515/515 [==============================] - 1s 1ms/step - loss: 1812.9426 - accuracy: 0.6129 - val_loss: 666.6615 - val_accuracy: 0.6552\n",
      "Epoch 83/100\n",
      "515/515 [==============================] - 1s 1ms/step - loss: 4253.4951 - accuracy: 0.6035 - val_loss: 1753.9930 - val_accuracy: 0.5353\n",
      "Epoch 84/100\n",
      "515/515 [==============================] - 1s 1ms/step - loss: 7886.0532 - accuracy: 0.6143 - val_loss: 232.2625 - val_accuracy: 0.6618\n",
      "Epoch 85/100\n",
      "515/515 [==============================] - 1s 1ms/step - loss: 2595.4893 - accuracy: 0.5854 - val_loss: 1129.0026 - val_accuracy: 0.6729\n",
      "Epoch 86/100\n",
      "515/515 [==============================] - 1s 1ms/step - loss: 4241.6074 - accuracy: 0.5303 - val_loss: 3680.9624 - val_accuracy: 0.5146\n",
      "Epoch 87/100\n",
      "515/515 [==============================] - 1s 1ms/step - loss: 7138.6006 - accuracy: 0.5765 - val_loss: 41.9490 - val_accuracy: 0.5969\n",
      "Epoch 88/100\n",
      "515/515 [==============================] - 1s 1ms/step - loss: 672.6130 - accuracy: 0.6167 - val_loss: 81.2494 - val_accuracy: 0.6204\n",
      "Epoch 89/100\n",
      "515/515 [==============================] - 1s 1ms/step - loss: 3946.6689 - accuracy: 0.5827 - val_loss: 8232.1504 - val_accuracy: 0.4657\n",
      "Epoch 90/100\n",
      "515/515 [==============================] - 1s 1ms/step - loss: 4160.1758 - accuracy: 0.5428 - val_loss: 342.2149 - val_accuracy: 0.6161\n",
      "Epoch 91/100\n",
      "515/515 [==============================] - 1s 1ms/step - loss: 3191.3071 - accuracy: 0.6106 - val_loss: 1428.6567 - val_accuracy: 0.6693\n",
      "Epoch 92/100\n",
      "515/515 [==============================] - 1s 1ms/step - loss: 3853.7605 - accuracy: 0.5865 - val_loss: 7116.7803 - val_accuracy: 0.4657\n",
      "Epoch 93/100\n",
      "515/515 [==============================] - 1s 1ms/step - loss: 3436.1443 - accuracy: 0.5769 - val_loss: 68.5613 - val_accuracy: 0.6244\n",
      "Epoch 94/100\n",
      "515/515 [==============================] - 1s 1ms/step - loss: 705.6700 - accuracy: 0.6181 - val_loss: 930.4859 - val_accuracy: 0.6728\n",
      "Epoch 95/100\n",
      "515/515 [==============================] - 1s 1ms/step - loss: 2724.7964 - accuracy: 0.5985 - val_loss: 3404.4219 - val_accuracy: 0.4728\n",
      "Epoch 96/100\n",
      "515/515 [==============================] - 1s 1ms/step - loss: 2219.6838 - accuracy: 0.5728 - val_loss: 5953.8213 - val_accuracy: 0.5343\n",
      "Epoch 97/100\n",
      "515/515 [==============================] - 1s 1ms/step - loss: 2099.9373 - accuracy: 0.6272 - val_loss: 5276.3843 - val_accuracy: 0.4658\n",
      "Epoch 98/100\n",
      "515/515 [==============================] - 1s 1ms/step - loss: 4314.1494 - accuracy: 0.5611 - val_loss: 7.4569 - val_accuracy: 0.6344\n",
      "Epoch 99/100\n",
      "515/515 [==============================] - 1s 1ms/step - loss: 3259.0276 - accuracy: 0.5898 - val_loss: 96.1310 - val_accuracy: 0.6281\n",
      "Epoch 100/100\n",
      "515/515 [==============================] - 1s 1ms/step - loss: 2412.3552 - accuracy: 0.6162 - val_loss: 1045.4424 - val_accuracy: 0.6666\n"
     ]
    }
   ],
   "source": [
    "# Train the model\n",
    "epochs = 100\n",
    "batch_size = 50\n",
    "history = nn.fit(X_train, y_train, epochs=epochs, batch_size=batch_size, validation_data=(X_test, y_test))"
   ]
  },
  {
   "cell_type": "code",
   "execution_count": null,
   "metadata": {},
   "outputs": [],
   "source": []
  },
  {
   "cell_type": "code",
   "execution_count": 17,
   "metadata": {
    "tags": []
   },
   "outputs": [
    {
     "name": "stdout",
     "output_type": "stream",
     "text": [
      "268/268 - 0s - loss: 2.7258 - accuracy: 0.6963 - 253ms/epoch - 944us/step\n",
      "Loss: 2.7257988452911377, Accuracy: 0.6963265538215637\n"
     ]
    }
   ],
   "source": [
    "# Evaluate the model using the test data\n",
    "model_loss, model_accuracy = nn.evaluate(X_test_scaled,y_test,verbose=2)\n",
    "print(f\"Loss: {model_loss}, Accuracy: {model_accuracy}\")"
   ]
  },
  {
   "cell_type": "code",
   "execution_count": 18,
   "metadata": {
    "tags": []
   },
   "outputs": [
    {
     "name": "stderr",
     "output_type": "stream",
     "text": [
      "C:\\Users\\Christopher Hornung\\anaconda3\\envs\\dev\\lib\\site-packages\\keras\\src\\engine\\training.py:3079: UserWarning: You are saving your model as an HDF5 file via `model.save()`. This file format is considered legacy. We recommend using instead the native Keras format, e.g. `model.save('my_model.keras')`.\n",
      "  saving_api.save_model(\n"
     ]
    }
   ],
   "source": [
    "# Export our model to HDF5 file\n",
    "model_filename = \"AlphabetSoupCharity_Optimization2.h5\"\n",
    "nn.save(model_filename)"
   ]
  },
  {
   "cell_type": "code",
   "execution_count": null,
   "metadata": {},
   "outputs": [],
   "source": []
  }
 ],
 "metadata": {
  "kernelspec": {
   "display_name": "Python 3 (ipykernel)",
   "language": "python",
   "name": "python3"
  },
  "language_info": {
   "codemirror_mode": {
    "name": "ipython",
    "version": 3
   },
   "file_extension": ".py",
   "mimetype": "text/x-python",
   "name": "python",
   "nbconvert_exporter": "python",
   "pygments_lexer": "ipython3",
   "version": "3.10.11"
  },
  "vscode": {
   "interpreter": {
    "hash": "31f2aee4e71d21fbe5cf8b01ff0e069b9275f58929596ceb00d14d90e3e16cd6"
   }
  }
 },
 "nbformat": 4,
 "nbformat_minor": 4
}
